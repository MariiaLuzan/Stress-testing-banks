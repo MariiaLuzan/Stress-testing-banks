{
 "cells": [
  {
   "cell_type": "markdown",
   "id": "6466731e",
   "metadata": {},
   "source": [
    " # Features Selection Using Lasso"
   ]
  },
  {
   "cell_type": "code",
   "execution_count": 1,
   "id": "ec5d3dec",
   "metadata": {},
   "outputs": [],
   "source": [
    "import pandas as pd\n",
    "import numpy as np\n",
    "from sklearn.linear_model import Lasso\n",
    "from sklearn.model_selection import GridSearchCV\n",
    "from sklearn.model_selection import TimeSeriesSplit\n",
    "from sklearn.pipeline import Pipeline\n",
    "from sklearn.preprocessing import StandardScaler"
   ]
  },
  {
   "cell_type": "code",
   "execution_count": 2,
   "id": "acc8cb71",
   "metadata": {},
   "outputs": [],
   "source": [
    "# Custom functions\n",
    "from sample_panel.merge_datasets import merge_bank_macro_datasets\n",
    "from supervised_learning.cross_validation import PanelDataSplit\n",
    "from supervised_learning.cross_validation import search_best_model\n",
    "from supervised_learning.cross_validation import Lasso_chosen_features\n",
    "from supervised_learning.cross_validation import find_Lasso_coef\n",
    "\n",
    "from supervised_learning.estimate_errors import estimate_median_relative_error\n",
    "from supervised_learning.estimate_errors import estimate_mean_relative_error\n",
    "from supervised_learning.estimate_errors import estimate_errors"
   ]
  },
  {
   "cell_type": "markdown",
   "id": "1dd67efd",
   "metadata": {},
   "source": [
    "## Preparing Data"
   ]
  },
  {
   "cell_type": "code",
   "execution_count": 3,
   "id": "ee17b169",
   "metadata": {},
   "outputs": [],
   "source": [
    "# Load bank panel data\n",
    "bank_data = pd.read_csv('df_response_vars.csv')"
   ]
  },
  {
   "cell_type": "code",
   "execution_count": 4,
   "id": "5e76f1ff",
   "metadata": {},
   "outputs": [],
   "source": [
    "# Load macroeconomic data\n",
    "macro_data = pd.read_csv('macro_features.csv')\n",
    "macro_columns = macro_data.columns\n",
    "\n",
    "# Factors with lags are not used in the model. Remove factors with lags\n",
    "new_macro_columns = [col for col in macro_columns if '_lag' not in col]\n",
    "macro_data = macro_data[new_macro_columns]"
   ]
  },
  {
   "cell_type": "code",
   "execution_count": 5,
   "id": "8cf41f36",
   "metadata": {},
   "outputs": [],
   "source": [
    "# Load PCA components\n",
    "pca_data = pd.read_csv('macro_pca_df.csv')"
   ]
  },
  {
   "cell_type": "code",
   "execution_count": 6,
   "id": "0347e4c1",
   "metadata": {},
   "outputs": [],
   "source": [
    "# Load additional macro variables\n",
    "macro_data1 = pd.read_csv('macro_most_inf_df.csv')\n",
    "# Clean column names\n",
    "macro_data1.columns = [col.replace('\\n', ' ') for col in macro_data1.columns]"
   ]
  },
  {
   "cell_type": "code",
   "execution_count": 7,
   "id": "0cd72c4e",
   "metadata": {},
   "outputs": [],
   "source": [
    "# Merge the bank panel and macroeconomic indicators\n",
    "data_set = merge_bank_macro_datasets(bank_data, macro_data, pca_data, macro_data1)"
   ]
  },
  {
   "cell_type": "code",
   "execution_count": 8,
   "id": "dfebc41a",
   "metadata": {},
   "outputs": [],
   "source": [
    "# Delete Nans values due to the lag of the response variable\n",
    "data_set.dropna(subset=['Provision_Lag1'], inplace=True)\n",
    "data_set.reset_index(drop=True, inplace=True)"
   ]
  },
  {
   "cell_type": "markdown",
   "id": "3f709164",
   "metadata": {},
   "source": [
    "## Parameters"
   ]
  },
  {
   "cell_type": "code",
   "execution_count": 9,
   "id": "e07612bd",
   "metadata": {},
   "outputs": [],
   "source": [
    "# Response variable\n",
    "y_col = 'Provision for Loan Lease Losses as % of Aver. Assets'"
   ]
  },
  {
   "cell_type": "code",
   "execution_count": 10,
   "id": "d346631b",
   "metadata": {},
   "outputs": [],
   "source": [
    "# Models\n",
    "# In the case of Lasso regression, we didn't need to specify a list of all potential models \n",
    "# because Lasso has the capability to autonomously select the model structure. \n",
    "# It achieves this by identifying the factors for which the coefficients are not equal to zero.\n",
    "models = {\n",
    "    'model1': ['Provision_Lag1', 'Real GDP growth_ema3', 'BBB corporate yield', \n",
    "               '3-month Treasury rate change', 'Dow Jones Total Stock Market Index change', \n",
    "               'Market Volatility Index'],\n",
    "    'model2': ['Provision_Lag1', 'Real GDP growth_ema3', 'BBB corporate yield', \n",
    "               '3-month Treasury rate change', 'Dow Jones Total Stock Market Index change', \n",
    "               'Market Volatility Index change'],\n",
    "    'model3': ['Provision_Lag1'] + list(pca_data.columns[:-1]), # all pca components,\n",
    "    'model4': ['Provision_Lag1'] + list(macro_data1.columns[:-1]) # additional macro indicators\n",
    "    } "
   ]
  },
  {
   "cell_type": "markdown",
   "id": "d0685f16",
   "metadata": {},
   "source": [
    "## Additional features"
   ]
  },
  {
   "cell_type": "code",
   "execution_count": 11,
   "id": "5d717173",
   "metadata": {},
   "outputs": [],
   "source": [
    "# Fixed Effects (individual intercept for each bank)\n",
    "data_set['IDRSSD1'] = data_set['IDRSSD']\n",
    "data_set = pd.get_dummies(data_set, columns=['IDRSSD1'], drop_first=True)\n",
    "fixed_effects_features = [col for col in data_set.columns if col.startswith('IDRSSD1_')]"
   ]
  },
  {
   "cell_type": "markdown",
   "id": "e2b2ef1d",
   "metadata": {},
   "source": [
    "## Train data set"
   ]
  },
  {
   "cell_type": "code",
   "execution_count": 12,
   "id": "76ff43f9",
   "metadata": {},
   "outputs": [],
   "source": [
    "# The last year is for test. We shouldn't use the last year to choose the features\n",
    "data_set_train = data_set[data_set['Report Date']<='2021-12-31'].copy()\n",
    "data_set_test = data_set[data_set['Report Date']>'2021-12-31'].copy()"
   ]
  },
  {
   "cell_type": "markdown",
   "id": "fa9c96b2",
   "metadata": {},
   "source": [
    "### Removing outliers from the train set"
   ]
  },
  {
   "cell_type": "code",
   "execution_count": 13,
   "id": "20e9c4ef",
   "metadata": {},
   "outputs": [],
   "source": [
    "lower_limit = np.percentile(data_set_train[y_col], 0.5)\n",
    "upper_limit = np.percentile(data_set_train[y_col], 99)\n",
    "\n",
    "data_set_train = data_set_train[(data_set_train[y_col]<=upper_limit)&(data_set_train[y_col]>=lower_limit)].copy()\n",
    "data_set_train.reset_index(drop=True, inplace=True)"
   ]
  },
  {
   "cell_type": "markdown",
   "id": "2996e738",
   "metadata": {},
   "source": [
    "## Pipeline"
   ]
  },
  {
   "cell_type": "code",
   "execution_count": 14,
   "id": "37a3910a",
   "metadata": {},
   "outputs": [],
   "source": [
    "# For lasso regression we need to scale data, so its coefficients has similar magnitude, \n",
    "# it is important for correct work of regularization. Otherwise regularization will penalize large coefficients\n",
    "scaler = StandardScaler()\n",
    "lasso_model = Lasso(max_iter=10000)\n",
    "\n",
    "pipeline = Pipeline(steps=[(\"scaler\", scaler), (\"lasso\", lasso_model)])"
   ]
  },
  {
   "cell_type": "markdown",
   "id": "575bfd50",
   "metadata": {},
   "source": [
    "## Defining cross validator and GridSearchCV"
   ]
  },
  {
   "cell_type": "code",
   "execution_count": 15,
   "id": "c777a07d",
   "metadata": {},
   "outputs": [],
   "source": [
    "# Custom cross-validator for panel data cross-validation split, based on sklearn's sklearn.model_selection.TimeSeriesSplit \n",
    "panel_cv = PanelDataSplit(test_size=4, date_axis=data_set_train['Report Date'], n_splits=5)"
   ]
  },
  {
   "cell_type": "code",
   "execution_count": 16,
   "id": "0649e8a6",
   "metadata": {},
   "outputs": [],
   "source": [
    "param_grid = {\n",
    "    'lasso__alpha': [0.0001, 0.001, 0.01, 0.1, 0.2, 0.3, 0.5, 0.75, 1]\n",
    "}\n",
    "search = GridSearchCV(pipeline, param_grid, scoring='r2', cv=panel_cv)"
   ]
  },
  {
   "cell_type": "markdown",
   "id": "ba35c186",
   "metadata": {},
   "source": [
    "##  Model Selection"
   ]
  },
  {
   "cell_type": "code",
   "execution_count": 17,
   "id": "3e9a50a0",
   "metadata": {},
   "outputs": [],
   "source": [
    "best_model_name, best_score, best_model, models_results, estimators = \\\n",
    "    search_best_model(data_set_train, models, search, y_col, fixed_effects_features)"
   ]
  },
  {
   "cell_type": "code",
   "execution_count": 18,
   "id": "4c0cb21b",
   "metadata": {},
   "outputs": [
    {
     "data": {
      "text/html": [
       "<div>\n",
       "<style scoped>\n",
       "    .dataframe tbody tr th:only-of-type {\n",
       "        vertical-align: middle;\n",
       "    }\n",
       "\n",
       "    .dataframe tbody tr th {\n",
       "        vertical-align: top;\n",
       "    }\n",
       "\n",
       "    .dataframe thead th {\n",
       "        text-align: right;\n",
       "    }\n",
       "</style>\n",
       "<table border=\"1\" class=\"dataframe\">\n",
       "  <thead>\n",
       "    <tr style=\"text-align: right;\">\n",
       "      <th></th>\n",
       "      <th>Cross-Validation R^2</th>\n",
       "      <th>Cross-Validation R^2 std</th>\n",
       "      <th>Best Hyperparameters</th>\n",
       "      <th>Cross-Validation R^2 Standard Error of the Mean</th>\n",
       "    </tr>\n",
       "  </thead>\n",
       "  <tbody>\n",
       "    <tr>\n",
       "      <th>model1</th>\n",
       "      <td>0.438239</td>\n",
       "      <td>0.538243</td>\n",
       "      <td>{'lasso__alpha': 0.01}</td>\n",
       "      <td>0.240709</td>\n",
       "    </tr>\n",
       "    <tr>\n",
       "      <th>model2</th>\n",
       "      <td>0.493577</td>\n",
       "      <td>0.426238</td>\n",
       "      <td>{'lasso__alpha': 0.01}</td>\n",
       "      <td>0.190619</td>\n",
       "    </tr>\n",
       "    <tr>\n",
       "      <th>model3</th>\n",
       "      <td>0.315647</td>\n",
       "      <td>0.523222</td>\n",
       "      <td>{'lasso__alpha': 0.1}</td>\n",
       "      <td>0.233992</td>\n",
       "    </tr>\n",
       "    <tr>\n",
       "      <th>model4</th>\n",
       "      <td>0.416651</td>\n",
       "      <td>0.621058</td>\n",
       "      <td>{'lasso__alpha': 0.01}</td>\n",
       "      <td>0.277746</td>\n",
       "    </tr>\n",
       "  </tbody>\n",
       "</table>\n",
       "</div>"
      ],
      "text/plain": [
       "        Cross-Validation R^2  Cross-Validation R^2 std  \\\n",
       "model1              0.438239                  0.538243   \n",
       "model2              0.493577                  0.426238   \n",
       "model3              0.315647                  0.523222   \n",
       "model4              0.416651                  0.621058   \n",
       "\n",
       "          Best Hyperparameters  \\\n",
       "model1  {'lasso__alpha': 0.01}   \n",
       "model2  {'lasso__alpha': 0.01}   \n",
       "model3   {'lasso__alpha': 0.1}   \n",
       "model4  {'lasso__alpha': 0.01}   \n",
       "\n",
       "        Cross-Validation R^2 Standard Error of the Mean  \n",
       "model1                                         0.240709  \n",
       "model2                                         0.190619  \n",
       "model3                                         0.233992  \n",
       "model4                                         0.277746  "
      ]
     },
     "execution_count": 18,
     "metadata": {},
     "output_type": "execute_result"
    }
   ],
   "source": [
    "models_results['Cross-Validation R^2 Standard Error of the Mean'] = \\\n",
    "    models_results['Cross-Validation R^2 std'] / panel_cv.get_n_splits()**0.5\n",
    "\n",
    "models_results"
   ]
  },
  {
   "cell_type": "markdown",
   "id": "6df5bed9",
   "metadata": {},
   "source": [
    "##  Features chosen with Lasso"
   ]
  },
  {
   "cell_type": "markdown",
   "id": "52b2b0f5",
   "metadata": {},
   "source": [
    "### Model1"
   ]
  },
  {
   "cell_type": "code",
   "execution_count": 19,
   "id": "eee4d451",
   "metadata": {},
   "outputs": [
    {
     "data": {
      "text/html": [
       "<div>\n",
       "<style scoped>\n",
       "    .dataframe tbody tr th:only-of-type {\n",
       "        vertical-align: middle;\n",
       "    }\n",
       "\n",
       "    .dataframe tbody tr th {\n",
       "        vertical-align: top;\n",
       "    }\n",
       "\n",
       "    .dataframe thead th {\n",
       "        text-align: right;\n",
       "    }\n",
       "</style>\n",
       "<table border=\"1\" class=\"dataframe\">\n",
       "  <thead>\n",
       "    <tr style=\"text-align: right;\">\n",
       "      <th></th>\n",
       "      <th>factors</th>\n",
       "      <th>coef</th>\n",
       "    </tr>\n",
       "  </thead>\n",
       "  <tbody>\n",
       "    <tr>\n",
       "      <th>0</th>\n",
       "      <td>Provision_Lag1</td>\n",
       "      <td>0.400529</td>\n",
       "    </tr>\n",
       "    <tr>\n",
       "      <th>1</th>\n",
       "      <td>Real GDP growth_ema3</td>\n",
       "      <td>-0.086870</td>\n",
       "    </tr>\n",
       "    <tr>\n",
       "      <th>2</th>\n",
       "      <td>BBB corporate yield</td>\n",
       "      <td>0.053627</td>\n",
       "    </tr>\n",
       "    <tr>\n",
       "      <th>3</th>\n",
       "      <td>3-month Treasury rate change</td>\n",
       "      <td>-0.035270</td>\n",
       "    </tr>\n",
       "    <tr>\n",
       "      <th>4</th>\n",
       "      <td>Dow Jones Total Stock Market Index change</td>\n",
       "      <td>0.000000</td>\n",
       "    </tr>\n",
       "    <tr>\n",
       "      <th>5</th>\n",
       "      <td>Market Volatility Index</td>\n",
       "      <td>0.040364</td>\n",
       "    </tr>\n",
       "  </tbody>\n",
       "</table>\n",
       "</div>"
      ],
      "text/plain": [
       "                                     factors      coef\n",
       "0                             Provision_Lag1  0.400529\n",
       "1                       Real GDP growth_ema3 -0.086870\n",
       "2                        BBB corporate yield  0.053627\n",
       "3               3-month Treasury rate change -0.035270\n",
       "4  Dow Jones Total Stock Market Index change  0.000000\n",
       "5                    Market Volatility Index  0.040364"
      ]
     },
     "execution_count": 19,
     "metadata": {},
     "output_type": "execute_result"
    }
   ],
   "source": [
    "Lasso_chosen_features(estimators[0], models['model1'], y_col, fixed_effects_features, data_set_train)                "
   ]
  },
  {
   "cell_type": "markdown",
   "id": "fe49ca83",
   "metadata": {},
   "source": [
    "### Model2"
   ]
  },
  {
   "cell_type": "code",
   "execution_count": 20,
   "id": "0b97e439",
   "metadata": {},
   "outputs": [
    {
     "data": {
      "text/html": [
       "<div>\n",
       "<style scoped>\n",
       "    .dataframe tbody tr th:only-of-type {\n",
       "        vertical-align: middle;\n",
       "    }\n",
       "\n",
       "    .dataframe tbody tr th {\n",
       "        vertical-align: top;\n",
       "    }\n",
       "\n",
       "    .dataframe thead th {\n",
       "        text-align: right;\n",
       "    }\n",
       "</style>\n",
       "<table border=\"1\" class=\"dataframe\">\n",
       "  <thead>\n",
       "    <tr style=\"text-align: right;\">\n",
       "      <th></th>\n",
       "      <th>factors</th>\n",
       "      <th>coef</th>\n",
       "    </tr>\n",
       "  </thead>\n",
       "  <tbody>\n",
       "    <tr>\n",
       "      <th>0</th>\n",
       "      <td>Provision_Lag1</td>\n",
       "      <td>0.400867</td>\n",
       "    </tr>\n",
       "    <tr>\n",
       "      <th>1</th>\n",
       "      <td>Real GDP growth_ema3</td>\n",
       "      <td>-0.099587</td>\n",
       "    </tr>\n",
       "    <tr>\n",
       "      <th>2</th>\n",
       "      <td>BBB corporate yield</td>\n",
       "      <td>0.054853</td>\n",
       "    </tr>\n",
       "    <tr>\n",
       "      <th>3</th>\n",
       "      <td>3-month Treasury rate change</td>\n",
       "      <td>-0.053521</td>\n",
       "    </tr>\n",
       "    <tr>\n",
       "      <th>4</th>\n",
       "      <td>Dow Jones Total Stock Market Index change</td>\n",
       "      <td>-0.000000</td>\n",
       "    </tr>\n",
       "    <tr>\n",
       "      <th>5</th>\n",
       "      <td>Market Volatility Index change</td>\n",
       "      <td>-0.000000</td>\n",
       "    </tr>\n",
       "  </tbody>\n",
       "</table>\n",
       "</div>"
      ],
      "text/plain": [
       "                                     factors      coef\n",
       "0                             Provision_Lag1  0.400867\n",
       "1                       Real GDP growth_ema3 -0.099587\n",
       "2                        BBB corporate yield  0.054853\n",
       "3               3-month Treasury rate change -0.053521\n",
       "4  Dow Jones Total Stock Market Index change -0.000000\n",
       "5             Market Volatility Index change -0.000000"
      ]
     },
     "execution_count": 20,
     "metadata": {},
     "output_type": "execute_result"
    }
   ],
   "source": [
    "Lasso_chosen_features(estimators[1], models['model2'], y_col, fixed_effects_features, data_set_train)   "
   ]
  },
  {
   "cell_type": "markdown",
   "id": "5ed9cc88",
   "metadata": {},
   "source": [
    "### Model3"
   ]
  },
  {
   "cell_type": "code",
   "execution_count": 21,
   "id": "10d2422c",
   "metadata": {},
   "outputs": [
    {
     "data": {
      "text/html": [
       "<div>\n",
       "<style scoped>\n",
       "    .dataframe tbody tr th:only-of-type {\n",
       "        vertical-align: middle;\n",
       "    }\n",
       "\n",
       "    .dataframe tbody tr th {\n",
       "        vertical-align: top;\n",
       "    }\n",
       "\n",
       "    .dataframe thead th {\n",
       "        text-align: right;\n",
       "    }\n",
       "</style>\n",
       "<table border=\"1\" class=\"dataframe\">\n",
       "  <thead>\n",
       "    <tr style=\"text-align: right;\">\n",
       "      <th></th>\n",
       "      <th>factors</th>\n",
       "      <th>coef</th>\n",
       "    </tr>\n",
       "  </thead>\n",
       "  <tbody>\n",
       "    <tr>\n",
       "      <th>0</th>\n",
       "      <td>Provision_Lag1</td>\n",
       "      <td>0.494657</td>\n",
       "    </tr>\n",
       "    <tr>\n",
       "      <th>1</th>\n",
       "      <td>PC1</td>\n",
       "      <td>-0.000000</td>\n",
       "    </tr>\n",
       "    <tr>\n",
       "      <th>2</th>\n",
       "      <td>PC2</td>\n",
       "      <td>0.008507</td>\n",
       "    </tr>\n",
       "    <tr>\n",
       "      <th>3</th>\n",
       "      <td>PC3</td>\n",
       "      <td>-0.000000</td>\n",
       "    </tr>\n",
       "    <tr>\n",
       "      <th>4</th>\n",
       "      <td>PC4</td>\n",
       "      <td>0.000000</td>\n",
       "    </tr>\n",
       "    <tr>\n",
       "      <th>5</th>\n",
       "      <td>PC5</td>\n",
       "      <td>0.000000</td>\n",
       "    </tr>\n",
       "    <tr>\n",
       "      <th>6</th>\n",
       "      <td>PC6</td>\n",
       "      <td>0.000000</td>\n",
       "    </tr>\n",
       "    <tr>\n",
       "      <th>7</th>\n",
       "      <td>PC7</td>\n",
       "      <td>0.000000</td>\n",
       "    </tr>\n",
       "    <tr>\n",
       "      <th>8</th>\n",
       "      <td>PC8</td>\n",
       "      <td>0.000000</td>\n",
       "    </tr>\n",
       "    <tr>\n",
       "      <th>9</th>\n",
       "      <td>PC9</td>\n",
       "      <td>-0.000000</td>\n",
       "    </tr>\n",
       "    <tr>\n",
       "      <th>10</th>\n",
       "      <td>PC10</td>\n",
       "      <td>-0.000000</td>\n",
       "    </tr>\n",
       "  </tbody>\n",
       "</table>\n",
       "</div>"
      ],
      "text/plain": [
       "           factors      coef\n",
       "0   Provision_Lag1  0.494657\n",
       "1              PC1 -0.000000\n",
       "2              PC2  0.008507\n",
       "3              PC3 -0.000000\n",
       "4              PC4  0.000000\n",
       "5              PC5  0.000000\n",
       "6              PC6  0.000000\n",
       "7              PC7  0.000000\n",
       "8              PC8  0.000000\n",
       "9              PC9 -0.000000\n",
       "10            PC10 -0.000000"
      ]
     },
     "execution_count": 21,
     "metadata": {},
     "output_type": "execute_result"
    }
   ],
   "source": [
    "Lasso_chosen_features(estimators[2], models['model3'], y_col, fixed_effects_features, data_set_train)  "
   ]
  },
  {
   "cell_type": "markdown",
   "id": "37f2168c",
   "metadata": {},
   "source": [
    "### Model4"
   ]
  },
  {
   "cell_type": "code",
   "execution_count": 22,
   "id": "b17bbcff",
   "metadata": {},
   "outputs": [
    {
     "data": {
      "text/html": [
       "<div>\n",
       "<style scoped>\n",
       "    .dataframe tbody tr th:only-of-type {\n",
       "        vertical-align: middle;\n",
       "    }\n",
       "\n",
       "    .dataframe tbody tr th {\n",
       "        vertical-align: top;\n",
       "    }\n",
       "\n",
       "    .dataframe thead th {\n",
       "        text-align: right;\n",
       "    }\n",
       "</style>\n",
       "<table border=\"1\" class=\"dataframe\">\n",
       "  <thead>\n",
       "    <tr style=\"text-align: right;\">\n",
       "      <th></th>\n",
       "      <th>factors</th>\n",
       "      <th>coef</th>\n",
       "    </tr>\n",
       "  </thead>\n",
       "  <tbody>\n",
       "    <tr>\n",
       "      <th>0</th>\n",
       "      <td>Provision_Lag1</td>\n",
       "      <td>0.381043</td>\n",
       "    </tr>\n",
       "    <tr>\n",
       "      <th>3</th>\n",
       "      <td>Japan bilateral dollar exchange rate (yen/USD)</td>\n",
       "      <td>-0.005234</td>\n",
       "    </tr>\n",
       "    <tr>\n",
       "      <th>4</th>\n",
       "      <td>Euro area bilateral dollar exchange rate (USD/...</td>\n",
       "      <td>0.018461</td>\n",
       "    </tr>\n",
       "    <tr>\n",
       "      <th>5</th>\n",
       "      <td>NBER_Recession_Indicator_Peak_through_Trough</td>\n",
       "      <td>0.031737</td>\n",
       "    </tr>\n",
       "    <tr>\n",
       "      <th>6</th>\n",
       "      <td>Commercial_Banks_Treasury_and_Agency_Securities</td>\n",
       "      <td>0.016445</td>\n",
       "    </tr>\n",
       "    <tr>\n",
       "      <th>8</th>\n",
       "      <td>Real disposable income growth</td>\n",
       "      <td>-0.016507</td>\n",
       "    </tr>\n",
       "    <tr>\n",
       "      <th>9</th>\n",
       "      <td>U.K. bilateral dollar exchange rate (USD/pound)</td>\n",
       "      <td>-0.050345</td>\n",
       "    </tr>\n",
       "    <tr>\n",
       "      <th>12</th>\n",
       "      <td>Unemployment rate</td>\n",
       "      <td>0.099282</td>\n",
       "    </tr>\n",
       "    <tr>\n",
       "      <th>17</th>\n",
       "      <td>BBB corporate yield</td>\n",
       "      <td>0.076716</td>\n",
       "    </tr>\n",
       "    <tr>\n",
       "      <th>18</th>\n",
       "      <td>Households_Net_Worth</td>\n",
       "      <td>-0.014169</td>\n",
       "    </tr>\n",
       "    <tr>\n",
       "      <th>20</th>\n",
       "      <td>Euro area inflation</td>\n",
       "      <td>-0.025400</td>\n",
       "    </tr>\n",
       "    <tr>\n",
       "      <th>21</th>\n",
       "      <td>Market Volatility Index</td>\n",
       "      <td>0.040890</td>\n",
       "    </tr>\n",
       "    <tr>\n",
       "      <th>22</th>\n",
       "      <td>Developing Asia inflation</td>\n",
       "      <td>0.034083</td>\n",
       "    </tr>\n",
       "  </tbody>\n",
       "</table>\n",
       "</div>"
      ],
      "text/plain": [
       "                                              factors      coef\n",
       "0                                      Provision_Lag1  0.381043\n",
       "3      Japan bilateral dollar exchange rate (yen/USD) -0.005234\n",
       "4   Euro area bilateral dollar exchange rate (USD/...  0.018461\n",
       "5        NBER_Recession_Indicator_Peak_through_Trough  0.031737\n",
       "6     Commercial_Banks_Treasury_and_Agency_Securities  0.016445\n",
       "8                       Real disposable income growth -0.016507\n",
       "9     U.K. bilateral dollar exchange rate (USD/pound) -0.050345\n",
       "12                                  Unemployment rate  0.099282\n",
       "17                                BBB corporate yield  0.076716\n",
       "18                               Households_Net_Worth -0.014169\n",
       "20                                Euro area inflation -0.025400\n",
       "21                            Market Volatility Index  0.040890\n",
       "22                          Developing Asia inflation  0.034083"
      ]
     },
     "execution_count": 22,
     "metadata": {},
     "output_type": "execute_result"
    }
   ],
   "source": [
    "factors = Lasso_chosen_features(estimators[3], models['model4'], y_col, fixed_effects_features, data_set_train) \n",
    "factors[factors['coef']!=0]"
   ]
  },
  {
   "cell_type": "markdown",
   "id": "723b9442",
   "metadata": {},
   "source": [
    "##   The chosen model's performance on the test dataset"
   ]
  },
  {
   "cell_type": "code",
   "execution_count": 23,
   "id": "56891eb3",
   "metadata": {},
   "outputs": [
    {
     "data": {
      "text/plain": [
       "'model2'"
      ]
     },
     "execution_count": 23,
     "metadata": {},
     "output_type": "execute_result"
    }
   ],
   "source": [
    "best_model_name"
   ]
  },
  {
   "cell_type": "code",
   "execution_count": 24,
   "id": "d725a06e",
   "metadata": {},
   "outputs": [
    {
     "data": {
      "text/plain": [
       "Pipeline(steps=[('scaler', StandardScaler()),\n",
       "                ('lasso', Lasso(alpha=0.01, max_iter=10000))])"
      ]
     },
     "execution_count": 24,
     "metadata": {},
     "output_type": "execute_result"
    }
   ],
   "source": [
    "best_model"
   ]
  },
  {
   "cell_type": "code",
   "execution_count": 25,
   "id": "5625f4ea",
   "metadata": {},
   "outputs": [],
   "source": [
    "# Fit the pipeline on the whole train set\n",
    "model_factors_all = models['model2'] + fixed_effects_features\n",
    "X_train = data_set_train[model_factors_all]\n",
    "y_train = data_set_train[y_col]\n",
    "best_model.fit(X_train, y_train)\n",
    "y_pred = best_model.predict(X_train)"
   ]
  },
  {
   "cell_type": "markdown",
   "id": "fa3d27bd",
   "metadata": {},
   "source": [
    "### Train sample"
   ]
  },
  {
   "cell_type": "code",
   "execution_count": 26,
   "id": "a7e85f65",
   "metadata": {},
   "outputs": [
    {
     "data": {
      "text/html": [
       "<div>\n",
       "<style scoped>\n",
       "    .dataframe tbody tr th:only-of-type {\n",
       "        vertical-align: middle;\n",
       "    }\n",
       "\n",
       "    .dataframe tbody tr th {\n",
       "        vertical-align: top;\n",
       "    }\n",
       "\n",
       "    .dataframe thead th {\n",
       "        text-align: right;\n",
       "    }\n",
       "</style>\n",
       "<table border=\"1\" class=\"dataframe\">\n",
       "  <thead>\n",
       "    <tr style=\"text-align: right;\">\n",
       "      <th></th>\n",
       "      <th>measure</th>\n",
       "    </tr>\n",
       "  </thead>\n",
       "  <tbody>\n",
       "    <tr>\n",
       "      <th>R squared</th>\n",
       "      <td>0.651785</td>\n",
       "    </tr>\n",
       "    <tr>\n",
       "      <th>RMSE</th>\n",
       "      <td>0.512533</td>\n",
       "    </tr>\n",
       "    <tr>\n",
       "      <th>median relative error, %</th>\n",
       "      <td>43.443012</td>\n",
       "    </tr>\n",
       "  </tbody>\n",
       "</table>\n",
       "</div>"
      ],
      "text/plain": [
       "                            measure\n",
       "R squared                  0.651785\n",
       "RMSE                       0.512533\n",
       "median relative error, %  43.443012"
      ]
     },
     "execution_count": 26,
     "metadata": {},
     "output_type": "execute_result"
    }
   ],
   "source": [
    "estimate_errors(y_train, y_pred, lower_limit, upper_limit)"
   ]
  },
  {
   "cell_type": "markdown",
   "id": "d051d549",
   "metadata": {},
   "source": [
    "### Test sample"
   ]
  },
  {
   "cell_type": "code",
   "execution_count": 27,
   "id": "6bcddaf8",
   "metadata": {},
   "outputs": [],
   "source": [
    "X_test = data_set_test[model_factors_all]\n",
    "y_test = data_set_test[y_col]\n",
    "y_pred = best_model.predict(X_test)"
   ]
  },
  {
   "cell_type": "code",
   "execution_count": 28,
   "id": "b87b51b9",
   "metadata": {},
   "outputs": [
    {
     "data": {
      "text/html": [
       "<div>\n",
       "<style scoped>\n",
       "    .dataframe tbody tr th:only-of-type {\n",
       "        vertical-align: middle;\n",
       "    }\n",
       "\n",
       "    .dataframe tbody tr th {\n",
       "        vertical-align: top;\n",
       "    }\n",
       "\n",
       "    .dataframe thead th {\n",
       "        text-align: right;\n",
       "    }\n",
       "</style>\n",
       "<table border=\"1\" class=\"dataframe\">\n",
       "  <thead>\n",
       "    <tr style=\"text-align: right;\">\n",
       "      <th></th>\n",
       "      <th>measure</th>\n",
       "    </tr>\n",
       "  </thead>\n",
       "  <tbody>\n",
       "    <tr>\n",
       "      <th>R squared</th>\n",
       "      <td>0.746256</td>\n",
       "    </tr>\n",
       "    <tr>\n",
       "      <th>RMSE</th>\n",
       "      <td>0.264592</td>\n",
       "    </tr>\n",
       "    <tr>\n",
       "      <th>median relative error, %</th>\n",
       "      <td>34.475139</td>\n",
       "    </tr>\n",
       "  </tbody>\n",
       "</table>\n",
       "</div>"
      ],
      "text/plain": [
       "                            measure\n",
       "R squared                  0.746256\n",
       "RMSE                       0.264592\n",
       "median relative error, %  34.475139"
      ]
     },
     "execution_count": 28,
     "metadata": {},
     "output_type": "execute_result"
    }
   ],
   "source": [
    "estimate_errors(y_test, y_pred, lower_limit, upper_limit)"
   ]
  }
 ],
 "metadata": {
  "kernelspec": {
   "display_name": "Python 3 (ipykernel)",
   "language": "python",
   "name": "python3"
  },
  "language_info": {
   "codemirror_mode": {
    "name": "ipython",
    "version": 3
   },
   "file_extension": ".py",
   "mimetype": "text/x-python",
   "name": "python",
   "nbconvert_exporter": "python",
   "pygments_lexer": "ipython3",
   "version": "3.9.13"
  }
 },
 "nbformat": 4,
 "nbformat_minor": 5
}

{
 "cells": [
  {
   "cell_type": "markdown",
   "id": "69a8b47a",
   "metadata": {},
   "source": [
    "# Analysis of the best model"
   ]
  },
  {
   "cell_type": "code",
   "execution_count": 1,
   "id": "ff43cb8d",
   "metadata": {},
   "outputs": [],
   "source": [
    "import pandas as pd\n",
    "import numpy as np\n",
    "from sklearn.ensemble import GradientBoostingRegressor\n",
    "from sklearn.pipeline import Pipeline\n",
    "from sklearn.preprocessing import StandardScaler\n",
    "import matplotlib.pyplot as plt"
   ]
  },
  {
   "cell_type": "code",
   "execution_count": 2,
   "id": "82e851c8",
   "metadata": {},
   "outputs": [],
   "source": [
    "# Custom functions\n",
    "from sample_panel.merge_datasets import merge_bank_macro_datasets\n",
    "from supervised_learning.cross_validation import PanelDataSplit\n",
    "from supervised_learning.sensitivity_analysis import outliers_sensitivity\n",
    "from supervised_learning.cross_validation import ablation_analysis\n",
    "from supervised_learning.estimate_errors import estimate_errors"
   ]
  },
  {
   "cell_type": "markdown",
   "id": "30aa82a7",
   "metadata": {},
   "source": [
    "## Loading data"
   ]
  },
  {
   "cell_type": "code",
   "execution_count": 3,
   "id": "cc3dff32",
   "metadata": {},
   "outputs": [],
   "source": [
    "# Load bank panel data\n",
    "bank_data = pd.read_csv('df_response_vars.csv')"
   ]
  },
  {
   "cell_type": "code",
   "execution_count": 4,
   "id": "26f85c94",
   "metadata": {},
   "outputs": [],
   "source": [
    "# Load macroeconomic data\n",
    "macro_data = pd.read_csv('macro_features.csv')\n",
    "macro_columns = macro_data.columns\n",
    "\n",
    "# Factors with lags are not used in the model. Remove factors with lags\n",
    "new_macro_columns = [col for col in macro_columns if '_lag' not in col]\n",
    "macro_data = macro_data[new_macro_columns]"
   ]
  },
  {
   "cell_type": "code",
   "execution_count": 5,
   "id": "974def75",
   "metadata": {},
   "outputs": [],
   "source": [
    "# Load PCA components\n",
    "pca_data = pd.read_csv('macro_pca_df.csv')"
   ]
  },
  {
   "cell_type": "code",
   "execution_count": 6,
   "id": "2b078ea6",
   "metadata": {},
   "outputs": [],
   "source": [
    "# Load additional macro variables\n",
    "macro_data1 = pd.read_csv('macro_most_inf_df.csv')\n",
    "# Clean column names\n",
    "macro_data1.columns = [col.replace('\\n', ' ') for col in macro_data1.columns]"
   ]
  },
  {
   "cell_type": "code",
   "execution_count": 7,
   "id": "26fcb6ac",
   "metadata": {},
   "outputs": [],
   "source": [
    "# Merge the bank panel and macroeconomic indicators\n",
    "data_set = merge_bank_macro_datasets(bank_data, macro_data, pca_data, macro_data1)"
   ]
  },
  {
   "cell_type": "code",
   "execution_count": 8,
   "id": "204c3e2b",
   "metadata": {},
   "outputs": [],
   "source": [
    "# Delete Nans values due to the lag of the response variable\n",
    "data_set.dropna(subset=['Provision_Lag1'], inplace=True)\n",
    "data_set.reset_index(drop=True, inplace=True)"
   ]
  },
  {
   "cell_type": "markdown",
   "id": "b2482b42",
   "metadata": {},
   "source": [
    "## Chosen model"
   ]
  },
  {
   "cell_type": "code",
   "execution_count": 9,
   "id": "8a476ecb",
   "metadata": {},
   "outputs": [],
   "source": [
    "# Response variable\n",
    "y_col = 'Provision for Loan Lease Losses as % of Aver. Assets'"
   ]
  },
  {
   "cell_type": "code",
   "execution_count": 10,
   "id": "51f62fe8",
   "metadata": {},
   "outputs": [],
   "source": [
    "# Features\n",
    "features = ['Provision_Lag1', 'Real GDP growth_ema3', 'Dow Jones Total Stock Market Index change']"
   ]
  },
  {
   "cell_type": "code",
   "execution_count": 11,
   "id": "d492790d",
   "metadata": {},
   "outputs": [],
   "source": [
    "# Fixed Effects (individual intercept for each bank)\n",
    "data_set['IDRSSD1'] = data_set['IDRSSD']\n",
    "data_set = pd.get_dummies(data_set, columns=['IDRSSD1'], drop_first=True)\n",
    "fixed_effects_features = [col for col in data_set.columns if col.startswith('IDRSSD1_')]"
   ]
  },
  {
   "cell_type": "code",
   "execution_count": 12,
   "id": "b70ef564",
   "metadata": {},
   "outputs": [],
   "source": [
    "# Full set of features\n",
    "features_all = features + fixed_effects_features"
   ]
  },
  {
   "cell_type": "code",
   "execution_count": 13,
   "id": "869cf5d3",
   "metadata": {},
   "outputs": [],
   "source": [
    "scaler = StandardScaler()\n",
    "gb_model = GradientBoostingRegressor(random_state=42)\n",
    "\n",
    "best_model = Pipeline(steps=[(\"scaler\", scaler), (\"gb_model\", gb_model)])"
   ]
  },
  {
   "cell_type": "markdown",
   "id": "96612953",
   "metadata": {},
   "source": [
    "## Train Test Split"
   ]
  },
  {
   "cell_type": "code",
   "execution_count": 14,
   "id": "09a6b70b",
   "metadata": {},
   "outputs": [],
   "source": [
    "data_set_train_full = data_set[data_set['Report Date']<='2021-12-31'].copy()\n",
    "data_set_test = data_set[data_set['Report Date']>'2021-12-31'].copy()"
   ]
  },
  {
   "cell_type": "markdown",
   "id": "b5618210",
   "metadata": {},
   "source": [
    "## Outliers"
   ]
  },
  {
   "cell_type": "markdown",
   "id": "f5e5a75e",
   "metadata": {},
   "source": [
    "### Removing outliers from the train set"
   ]
  },
  {
   "cell_type": "code",
   "execution_count": 15,
   "id": "000045b3",
   "metadata": {},
   "outputs": [],
   "source": [
    "lower_limit = np.percentile(data_set_train_full[y_col], 0.5)\n",
    "upper_limit = np.percentile(data_set_train_full[y_col], 99)\n",
    "\n",
    "data_set_train = data_set_train_full.copy()[(data_set_train_full[y_col]<=upper_limit)&(data_set_train_full[y_col]>=lower_limit)]\n",
    "data_set_train.reset_index(drop=True, inplace=True)"
   ]
  },
  {
   "cell_type": "code",
   "execution_count": 16,
   "id": "747bd2ac",
   "metadata": {},
   "outputs": [],
   "source": [
    "X_train = data_set_train_full[features_all]\n",
    "y_train = data_set_train_full[y_col]"
   ]
  },
  {
   "cell_type": "markdown",
   "id": "1f0933c9",
   "metadata": {},
   "source": [
    "## Model trained on the train set"
   ]
  },
  {
   "cell_type": "code",
   "execution_count": 17,
   "id": "e8f864d9",
   "metadata": {},
   "outputs": [
    {
     "data": {
      "text/plain": [
       "Pipeline(steps=[('scaler', StandardScaler()),\n",
       "                ('gb_model', GradientBoostingRegressor(random_state=42))])"
      ]
     },
     "execution_count": 17,
     "metadata": {},
     "output_type": "execute_result"
    }
   ],
   "source": [
    "X_train = data_set_train[features_all]\n",
    "y_train = data_set_train[y_col]\n",
    "best_model.fit(X_train, y_train)"
   ]
  },
  {
   "cell_type": "markdown",
   "id": "bc7427eb",
   "metadata": {},
   "source": [
    "### Performance on the train set"
   ]
  },
  {
   "cell_type": "code",
   "execution_count": 18,
   "id": "77ea892a",
   "metadata": {},
   "outputs": [
    {
     "data": {
      "text/html": [
       "<div>\n",
       "<style scoped>\n",
       "    .dataframe tbody tr th:only-of-type {\n",
       "        vertical-align: middle;\n",
       "    }\n",
       "\n",
       "    .dataframe tbody tr th {\n",
       "        vertical-align: top;\n",
       "    }\n",
       "\n",
       "    .dataframe thead th {\n",
       "        text-align: right;\n",
       "    }\n",
       "</style>\n",
       "<table border=\"1\" class=\"dataframe\">\n",
       "  <thead>\n",
       "    <tr style=\"text-align: right;\">\n",
       "      <th></th>\n",
       "      <th>measure</th>\n",
       "    </tr>\n",
       "  </thead>\n",
       "  <tbody>\n",
       "    <tr>\n",
       "      <th>R squared</th>\n",
       "      <td>0.88275</td>\n",
       "    </tr>\n",
       "    <tr>\n",
       "      <th>RMSE</th>\n",
       "      <td>0.297434</td>\n",
       "    </tr>\n",
       "    <tr>\n",
       "      <th>median relative error, %</th>\n",
       "      <td>17.976709</td>\n",
       "    </tr>\n",
       "  </tbody>\n",
       "</table>\n",
       "</div>"
      ],
      "text/plain": [
       "                            measure\n",
       "R squared                   0.88275\n",
       "RMSE                       0.297434\n",
       "median relative error, %  17.976709"
      ]
     },
     "execution_count": 18,
     "metadata": {},
     "output_type": "execute_result"
    }
   ],
   "source": [
    "y_pred = best_model.predict(X_train)\n",
    "estimate_errors(y_train, y_pred)"
   ]
  },
  {
   "cell_type": "markdown",
   "id": "a49fea93",
   "metadata": {},
   "source": [
    "### Performance on the test set"
   ]
  },
  {
   "cell_type": "code",
   "execution_count": 19,
   "id": "fa10d2b4",
   "metadata": {},
   "outputs": [
    {
     "data": {
      "text/html": [
       "<div>\n",
       "<style scoped>\n",
       "    .dataframe tbody tr th:only-of-type {\n",
       "        vertical-align: middle;\n",
       "    }\n",
       "\n",
       "    .dataframe tbody tr th {\n",
       "        vertical-align: top;\n",
       "    }\n",
       "\n",
       "    .dataframe thead th {\n",
       "        text-align: right;\n",
       "    }\n",
       "</style>\n",
       "<table border=\"1\" class=\"dataframe\">\n",
       "  <thead>\n",
       "    <tr style=\"text-align: right;\">\n",
       "      <th></th>\n",
       "      <th>measure</th>\n",
       "    </tr>\n",
       "  </thead>\n",
       "  <tbody>\n",
       "    <tr>\n",
       "      <th>R squared</th>\n",
       "      <td>0.821973</td>\n",
       "    </tr>\n",
       "    <tr>\n",
       "      <th>RMSE</th>\n",
       "      <td>0.221627</td>\n",
       "    </tr>\n",
       "    <tr>\n",
       "      <th>median relative error, %</th>\n",
       "      <td>40.290357</td>\n",
       "    </tr>\n",
       "  </tbody>\n",
       "</table>\n",
       "</div>"
      ],
      "text/plain": [
       "                            measure\n",
       "R squared                  0.821973\n",
       "RMSE                       0.221627\n",
       "median relative error, %  40.290357"
      ]
     },
     "execution_count": 19,
     "metadata": {},
     "output_type": "execute_result"
    }
   ],
   "source": [
    "X_test = data_set_test[features_all]\n",
    "y_test = data_set_test[y_col]\n",
    "y_pred = best_model.predict(X_test)\n",
    "# Excluding points, there were identified as outliers on the train set\n",
    "estimate_errors(y_test, y_pred, lower_limit, upper_limit)"
   ]
  },
  {
   "cell_type": "markdown",
   "id": "ea22b059",
   "metadata": {},
   "source": [
    "## Feature importance\n",
    "### Ablation analysis"
   ]
  },
  {
   "cell_type": "code",
   "execution_count": 20,
   "id": "203c5320",
   "metadata": {},
   "outputs": [],
   "source": [
    "# Define sets of features by excluding factors of group of factors\n",
    "features_sets = {\n",
    "    'Complete features set': features_all, \n",
    "    'Omitting Provision_lag1': ['Real GDP growth_ema3', 'Dow Jones Total Stock Market Index change'] + fixed_effects_features,\n",
    "    'Omitting Fixed effects': features, \n",
    "    'Omitting Dow Jones Index change': ['Provision_Lag1', 'Real GDP growth_ema3'] + fixed_effects_features, \n",
    "    'Omitting Real GDP growth_ema3': ['Provision_Lag1', 'Dow Jones Total Stock Market Index change'] + fixed_effects_features,\n",
    "}"
   ]
  },
  {
   "cell_type": "code",
   "execution_count": 21,
   "id": "3da7f772",
   "metadata": {},
   "outputs": [],
   "source": [
    "panel_cv = PanelDataSplit(test_size=4, date_axis=data_set_train['Report Date'], n_splits=10)"
   ]
  },
  {
   "cell_type": "code",
   "execution_count": 22,
   "id": "07b76a11",
   "metadata": {},
   "outputs": [
    {
     "data": {
      "text/html": [
       "<div>\n",
       "<style scoped>\n",
       "    .dataframe tbody tr th:only-of-type {\n",
       "        vertical-align: middle;\n",
       "    }\n",
       "\n",
       "    .dataframe tbody tr th {\n",
       "        vertical-align: top;\n",
       "    }\n",
       "\n",
       "    .dataframe thead th {\n",
       "        text-align: right;\n",
       "    }\n",
       "</style>\n",
       "<table border=\"1\" class=\"dataframe\">\n",
       "  <thead>\n",
       "    <tr style=\"text-align: right;\">\n",
       "      <th></th>\n",
       "      <th>R^2 mean</th>\n",
       "      <th>R^2 standard error of the mean</th>\n",
       "    </tr>\n",
       "  </thead>\n",
       "  <tbody>\n",
       "    <tr>\n",
       "      <th>Complete features set</th>\n",
       "      <td>0.769693</td>\n",
       "      <td>0.092081</td>\n",
       "    </tr>\n",
       "    <tr>\n",
       "      <th>Omitting Provision_lag1</th>\n",
       "      <td>0.232723</td>\n",
       "      <td>0.217550</td>\n",
       "    </tr>\n",
       "    <tr>\n",
       "      <th>Omitting Fixed effects</th>\n",
       "      <td>0.738240</td>\n",
       "      <td>0.116270</td>\n",
       "    </tr>\n",
       "    <tr>\n",
       "      <th>Omitting Dow Jones Index change</th>\n",
       "      <td>0.755240</td>\n",
       "      <td>0.103244</td>\n",
       "    </tr>\n",
       "    <tr>\n",
       "      <th>Omitting Real GDP growth_ema3</th>\n",
       "      <td>0.767142</td>\n",
       "      <td>0.092016</td>\n",
       "    </tr>\n",
       "  </tbody>\n",
       "</table>\n",
       "</div>"
      ],
      "text/plain": [
       "                                 R^2 mean  R^2 standard error of the mean\n",
       "Complete features set            0.769693                        0.092081\n",
       "Omitting Provision_lag1          0.232723                        0.217550\n",
       "Omitting Fixed effects           0.738240                        0.116270\n",
       "Omitting Dow Jones Index change  0.755240                        0.103244\n",
       "Omitting Real GDP growth_ema3    0.767142                        0.092016"
      ]
     },
     "execution_count": 22,
     "metadata": {},
     "output_type": "execute_result"
    }
   ],
   "source": [
    "# Run ablation analysis by calculating cross-validation scores for specified sets of features \"features_sets\"\n",
    "ablation_res = ablation_analysis(best_model, data_set_train,\n",
    "                                 features_sets, y_col, panel_cv)\n",
    "ablation_res"
   ]
  },
  {
   "cell_type": "markdown",
   "id": "36d642c4",
   "metadata": {},
   "source": [
    "## Sensitivity analysis\n",
    "We've decided to conduct a sensitivity analysis to gain insights into how approach to defining outliers impacts the accuracy of our model. This is due to the presence of numerous outliers in our response variable, \"Provision for Loan Lease Losses\". Generally, outliers have a negative impact because in datasets containing outliers, the estimator becomes biased in favor of these extreme values. Consequently, this results in a decrease in the model's accuracy for typical data points.\n",
    "\n",
    "In our sensitivity analysis, we assessed the model's performance under various outlier specifications. These different scenarios are detailed in the \"train_limits\" list. For instance, \"train_limit=(1, 98)\" means that in the training sample, all data points below the 1st percentile and above the 98th percentile are excluded. The variant \"(0, 100)\" means that the entire training sample is retained, without excluding any outliers.\n",
    "\n",
    "In our analysis of the test sample, we also incorporated an outlier specification, as it is crucial to understand how our decisions regarding outlier handling in the train sample influence different types of data points within the test set. \"test_limits=(1, 91)\" means that, for the test sample, we categorize typical data points as falling between the 1st and 91st percentiles, while any data points beyond this range are classified as outliers. We are examining how our choice of outlier specification (defined in \"train_limits\") impacts model accuracy for typical data points and for outliers in the test set.\n",
    "\n",
    "These outlier specifications are driven by the observation that the distribution of the response variable is right-skewed, with a greater concentration of outliers towards the right end of the distribution compared to the left end."
   ]
  },
  {
   "cell_type": "code",
   "execution_count": 23,
   "id": "830b3b1a",
   "metadata": {},
   "outputs": [],
   "source": [
    "train_limits = [(0, 100), (1, 98), (1, 96), (1, 94), (1, 92), (1, 90), ]\n",
    "test_limits = (1, 91)\n",
    "\n",
    "# Number of splits for cross-validation\n",
    "fold_num=5"
   ]
  },
  {
   "cell_type": "code",
   "execution_count": 24,
   "id": "4187d8a2",
   "metadata": {},
   "outputs": [
    {
     "data": {
      "text/html": [
       "<div>\n",
       "<style scoped>\n",
       "    .dataframe tbody tr th:only-of-type {\n",
       "        vertical-align: middle;\n",
       "    }\n",
       "\n",
       "    .dataframe tbody tr th {\n",
       "        vertical-align: top;\n",
       "    }\n",
       "\n",
       "    .dataframe thead th {\n",
       "        text-align: right;\n",
       "    }\n",
       "</style>\n",
       "<table border=\"1\" class=\"dataframe\">\n",
       "  <thead>\n",
       "    <tr style=\"text-align: right;\">\n",
       "      <th></th>\n",
       "      <th>excluded outliers from train set</th>\n",
       "      <th>train set size (excl.outliers)</th>\n",
       "      <th>train cross-validation RMSE (excl. outliers)</th>\n",
       "      <th>test size (excl. points that were considered outliers in train)</th>\n",
       "      <th>test RMSE (excl. points that were considered outliers in train)</th>\n",
       "      <th>test RMSE for all points, samplesize=716</th>\n",
       "      <th>test RMSE for typical points (between 1 and 91 percentiles in test set), samplesize=640</th>\n",
       "      <th>test RMSE for outliers (lowest 1% or highest 9% in test set), samplesize=76</th>\n",
       "    </tr>\n",
       "  </thead>\n",
       "  <tbody>\n",
       "    <tr>\n",
       "      <th>0</th>\n",
       "      <td>(0, 100)</td>\n",
       "      <td>15664</td>\n",
       "      <td>0.410311</td>\n",
       "      <td>716</td>\n",
       "      <td>0.356724</td>\n",
       "      <td>0.356724</td>\n",
       "      <td>0.122979</td>\n",
       "      <td>1.070285</td>\n",
       "    </tr>\n",
       "    <tr>\n",
       "      <th>1</th>\n",
       "      <td>(1, 98)</td>\n",
       "      <td>15196</td>\n",
       "      <td>0.240833</td>\n",
       "      <td>705</td>\n",
       "      <td>0.215186</td>\n",
       "      <td>0.454678</td>\n",
       "      <td>0.099839</td>\n",
       "      <td>1.411492</td>\n",
       "    </tr>\n",
       "    <tr>\n",
       "      <th>2</th>\n",
       "      <td>(1, 96)</td>\n",
       "      <td>14883</td>\n",
       "      <td>0.225469</td>\n",
       "      <td>701</td>\n",
       "      <td>0.211656</td>\n",
       "      <td>0.544317</td>\n",
       "      <td>0.096885</td>\n",
       "      <td>1.703169</td>\n",
       "    </tr>\n",
       "    <tr>\n",
       "      <th>3</th>\n",
       "      <td>(1, 94)</td>\n",
       "      <td>14572</td>\n",
       "      <td>0.197383</td>\n",
       "      <td>697</td>\n",
       "      <td>0.188851</td>\n",
       "      <td>0.608993</td>\n",
       "      <td>0.091213</td>\n",
       "      <td>1.913864</td>\n",
       "    </tr>\n",
       "    <tr>\n",
       "      <th>4</th>\n",
       "      <td>(1, 92)</td>\n",
       "      <td>14259</td>\n",
       "      <td>0.180773</td>\n",
       "      <td>692</td>\n",
       "      <td>0.170747</td>\n",
       "      <td>0.647008</td>\n",
       "      <td>0.091163</td>\n",
       "      <td>2.035862</td>\n",
       "    </tr>\n",
       "    <tr>\n",
       "      <th>5</th>\n",
       "      <td>(1, 90)</td>\n",
       "      <td>13943</td>\n",
       "      <td>0.166751</td>\n",
       "      <td>686</td>\n",
       "      <td>0.134579</td>\n",
       "      <td>0.675879</td>\n",
       "      <td>0.085617</td>\n",
       "      <td>2.130377</td>\n",
       "    </tr>\n",
       "  </tbody>\n",
       "</table>\n",
       "</div>"
      ],
      "text/plain": [
       "  excluded outliers from train set  train set size (excl.outliers)  \\\n",
       "0                         (0, 100)                           15664   \n",
       "1                          (1, 98)                           15196   \n",
       "2                          (1, 96)                           14883   \n",
       "3                          (1, 94)                           14572   \n",
       "4                          (1, 92)                           14259   \n",
       "5                          (1, 90)                           13943   \n",
       "\n",
       "   train cross-validation RMSE (excl. outliers)  \\\n",
       "0                                      0.410311   \n",
       "1                                      0.240833   \n",
       "2                                      0.225469   \n",
       "3                                      0.197383   \n",
       "4                                      0.180773   \n",
       "5                                      0.166751   \n",
       "\n",
       "   test size (excl. points that were considered outliers in train)  \\\n",
       "0                                                716                 \n",
       "1                                                705                 \n",
       "2                                                701                 \n",
       "3                                                697                 \n",
       "4                                                692                 \n",
       "5                                                686                 \n",
       "\n",
       "   test RMSE (excl. points that were considered outliers in train)  \\\n",
       "0                                           0.356724                 \n",
       "1                                           0.215186                 \n",
       "2                                           0.211656                 \n",
       "3                                           0.188851                 \n",
       "4                                           0.170747                 \n",
       "5                                           0.134579                 \n",
       "\n",
       "   test RMSE for all points, samplesize=716  \\\n",
       "0                                  0.356724   \n",
       "1                                  0.454678   \n",
       "2                                  0.544317   \n",
       "3                                  0.608993   \n",
       "4                                  0.647008   \n",
       "5                                  0.675879   \n",
       "\n",
       "   test RMSE for typical points (between 1 and 91 percentiles in test set), samplesize=640  \\\n",
       "0                                           0.122979                                         \n",
       "1                                           0.099839                                         \n",
       "2                                           0.096885                                         \n",
       "3                                           0.091213                                         \n",
       "4                                           0.091163                                         \n",
       "5                                           0.085617                                         \n",
       "\n",
       "   test RMSE for outliers (lowest 1% or highest 9% in test set), samplesize=76  \n",
       "0                                           1.070285                            \n",
       "1                                           1.411492                            \n",
       "2                                           1.703169                            \n",
       "3                                           1.913864                            \n",
       "4                                           2.035862                            \n",
       "5                                           2.130377                            "
      ]
     },
     "execution_count": 24,
     "metadata": {},
     "output_type": "execute_result"
    }
   ],
   "source": [
    "sensitivity_to_outliers = outliers_sensitivity(data_set_train_full, data_set_test, features_all, y_col,\n",
    "                                               best_model, fold_num,\n",
    "                                               train_limits, test_limits)\n",
    "sensitivity_to_outliers"
   ]
  },
  {
   "cell_type": "code",
   "execution_count": 25,
   "id": "6f99c028",
   "metadata": {},
   "outputs": [
    {
     "data": {
      "image/png": "[encoded data removed]",
      "text/plain": [
       "<Figure size 1200x300 with 2 Axes>"
      ]
     },
     "metadata": {},
     "output_type": "display_data"
    }
   ],
   "source": [
    "fig, (ax1, ax2) = plt.subplots(1, 2, figsize=(12,3))\n",
    "\n",
    "x_labels = [100-x[1] for x in train_limits]\n",
    "\n",
    "ax1.plot(x_labels, sensitivity_to_outliers.iloc[:, 6])\n",
    "ax2.plot(x_labels, sensitivity_to_outliers.iloc[:, 7])\n",
    "\n",
    "ax1.set_title('RMSE for typical points in the test set\\n(between 1 and 91 percentiles),\\nsamplesize=640')\n",
    "ax2.set_title('RMSE for outliers in the test set\\n(lowest 1% or highest 9%),\\nsamplesize=76')\n",
    "\n",
    "ax1.set(xlabel='% of data points removed from the right end of the training set', ylabel='RMSE')\n",
    "ax2.set(xlabel='% of data points removed from the right end of the training set', ylabel='RMSE')\n",
    "\n",
    "fig.suptitle('Analysis of sensitivity to outlier specification', fontsize=14, y=1.17);"
   ]
  },
  {
   "cell_type": "markdown",
   "id": "e134dc80",
   "metadata": {},
   "source": [
    "This image illustrates the adverse impact of having outliers in the training dataset on the model's accuracy for typical data points. When no outliers are removed from the training set, the root mean square error (RMSE) for the majority of data points in the test sample (90% of the test sample) is 0.123. However, if we exclude 10% of the data points from the right end of the training distribution, the RMSE for the majority of data points decreases to 0.086. Excluding outliers results in a less biased estimator and improved performance for typical data points. Nonetheless, the exclusion of data points leads to less accurate predictions for the outliers within the test sample (10% of the test sample)."
   ]
  },
  {
   "cell_type": "markdown",
   "id": "ddebeb11",
   "metadata": {},
   "source": [
    "## Failure analysis\n",
    "Creating the Excel file for the purpose of error analysis."
   ]
  },
  {
   "cell_type": "code",
   "execution_count": 26,
   "id": "0a9430f3",
   "metadata": {},
   "outputs": [],
   "source": [
    "# Get predictions for the whole data set (train + test)\n",
    "best_model.fit(X_train, y_train)\n",
    "data_set['y_pred'] = best_model.predict(data_set[features_all])\n",
    "data_set['squared error'] = (data_set[y_col] - data_set['y_pred'])**2"
   ]
  },
  {
   "cell_type": "code",
   "execution_count": 27,
   "id": "d75d1e34",
   "metadata": {},
   "outputs": [],
   "source": [
    "columns_to_load = ['Report Date', 'IDRSSD', 'Financial Institution Name', y_col, 'y_pred', 'squared error'] + features\n",
    "data_set[columns_to_load].to_excel('failure_analysis.xlsx')"
   ]
  }
 ],
 "metadata": {
  "kernelspec": {
   "display_name": "Python 3 (ipykernel)",
   "language": "python",
   "name": "python3"
  },
  "language_info": {
   "codemirror_mode": {
    "name": "ipython",
    "version": 3
   },
   "file_extension": ".py",
   "mimetype": "text/x-python",
   "name": "python",
   "nbconvert_exporter": "python",
   "pygments_lexer": "ipython3",
   "version": "3.9.13"
  }
 },
 "nbformat": 4,
 "nbformat_minor": 5
}

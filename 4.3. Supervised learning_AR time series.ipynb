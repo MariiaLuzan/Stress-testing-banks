{
 "cells": [
  {
   "cell_type": "markdown",
   "id": "68a3e15f",
   "metadata": {},
   "source": [
    "# Supervised Learning: Autocorrelation Time Series Models"
   ]
  },
  {
   "cell_type": "code",
   "execution_count": 1,
   "id": "949b345e",
   "metadata": {},
   "outputs": [],
   "source": [
    "import pandas as pd\n",
    "import numpy as np\n",
    "import matplotlib.pyplot as plt"
   ]
  },
  {
   "cell_type": "code",
   "execution_count": 2,
   "id": "dc352edd",
   "metadata": {},
   "outputs": [],
   "source": [
    "# Custom functions\n",
    "from sample_panel.merge_datasets import merge_bank_macro_datasets\n",
    "from supervised_learning.estimate_errors import estimate_errors\n",
    "\n",
    "from supervised_learning.time_series import create_bank_train_set\n",
    "from supervised_learning.time_series import choose_bank_best_model\n",
    "from supervised_learning.time_series import bank_prediction"
   ]
  },
  {
   "cell_type": "markdown",
   "id": "e7d86ec5",
   "metadata": {},
   "source": [
    "## Loading Data"
   ]
  },
  {
   "cell_type": "code",
   "execution_count": 3,
   "id": "534e0de3",
   "metadata": {},
   "outputs": [],
   "source": [
    "# Load bank panel data\n",
    "bank_data = pd.read_csv('df_response_vars.csv')"
   ]
  },
  {
   "cell_type": "code",
   "execution_count": 4,
   "id": "522f25d2",
   "metadata": {},
   "outputs": [],
   "source": [
    "# Load macroeconomic data\n",
    "macro_data = pd.read_csv('macro_features.csv')\n",
    "macro_columns = macro_data.columns\n",
    "\n",
    "# Factors with lags are not used in the model. Remove factors with lags\n",
    "new_macro_columns = [col for col in macro_columns if '_lag' not in col]\n",
    "macro_data = macro_data[new_macro_columns]"
   ]
  },
  {
   "cell_type": "code",
   "execution_count": 5,
   "id": "d72385f4",
   "metadata": {},
   "outputs": [],
   "source": [
    "# Load PCA components\n",
    "pca_data = pd.read_csv('macro_pca_df.csv')"
   ]
  },
  {
   "cell_type": "code",
   "execution_count": 6,
   "id": "02afada9",
   "metadata": {},
   "outputs": [],
   "source": [
    "# Load additional macro variables\n",
    "macro_data1 = pd.read_csv('macro_most_inf_df.csv')\n",
    "# Clean column names\n",
    "macro_data1.columns = [col.replace('\\n', ' ') for col in macro_data1.columns]"
   ]
  },
  {
   "cell_type": "code",
   "execution_count": 7,
   "id": "ad1a6ebb",
   "metadata": {},
   "outputs": [],
   "source": [
    "# Merge the bank panel and macroeconomic indicators\n",
    "data_set = merge_bank_macro_datasets(bank_data, macro_data, pca_data, macro_data1)"
   ]
  },
  {
   "cell_type": "code",
   "execution_count": 8,
   "id": "182a8c6f",
   "metadata": {},
   "outputs": [],
   "source": [
    "# Column for predicted values\n",
    "data_set['y_pred']=np.NaN"
   ]
  },
  {
   "cell_type": "markdown",
   "id": "f81e1f05",
   "metadata": {},
   "source": [
    "## Params\n",
    "\n",
    "DataFrame \"factors_df\" contains the chosen factors and specifies how these factors should be utilized.\n",
    "- The \"sign\" column indicates the relationship's sign with the response variable. The sign's correctness will be\n",
    "automatically verified for each model, and models with incorrect signs will be disregarded.\n",
    "- The \"group\" column: In the case of multiple factors within one group, the factor with the highest correlation with the response variable will be included in the model.\n",
    "- The \"calc_ema\" flag determines whether to apply the Exponential Moving Average (EMA) transformation to a factor. If \"calc_ema\" is set to 1, the EMA's center of mass parameter will be automatically selected from a predefined range of values in a manner that maximizes the correlation between the factor and the residuals of the AutoRegressive (AR) model."
   ]
  },
  {
   "cell_type": "code",
   "execution_count": 9,
   "id": "fa934a20",
   "metadata": {},
   "outputs": [],
   "source": [
    "selected_factors = {\n",
    "    'Real GDP growth': [-1, 0, 1],\n",
    "    'BBB corporate yield': [1, 1, 1], \n",
    "    '3-month Treasury rate change': [-1, 2, 1], \n",
    "    'Dow Jones Total Stock Market Index change': [-1, 3, 1], \n",
    "    'Market Volatility Index': [1, 4, 1], \n",
    "    'Market Volatility Index change': [1, 4, 1],    \n",
    "}\n",
    "\n",
    "factors_df = pd.DataFrame.from_dict(selected_factors, orient='index', columns=['sign', 'group', 'calc_ema'])"
   ]
  },
  {
   "cell_type": "code",
   "execution_count": 10,
   "id": "caeb1da6",
   "metadata": {},
   "outputs": [
    {
     "data": {
      "text/html": [
       "<div>\n",
       "<style scoped>\n",
       "    .dataframe tbody tr th:only-of-type {\n",
       "        vertical-align: middle;\n",
       "    }\n",
       "\n",
       "    .dataframe tbody tr th {\n",
       "        vertical-align: top;\n",
       "    }\n",
       "\n",
       "    .dataframe thead th {\n",
       "        text-align: right;\n",
       "    }\n",
       "</style>\n",
       "<table border=\"1\" class=\"dataframe\">\n",
       "  <thead>\n",
       "    <tr style=\"text-align: right;\">\n",
       "      <th></th>\n",
       "      <th>sign</th>\n",
       "      <th>group</th>\n",
       "      <th>calc_ema</th>\n",
       "    </tr>\n",
       "  </thead>\n",
       "  <tbody>\n",
       "    <tr>\n",
       "      <th>Real GDP growth</th>\n",
       "      <td>-1</td>\n",
       "      <td>0</td>\n",
       "      <td>1</td>\n",
       "    </tr>\n",
       "    <tr>\n",
       "      <th>BBB corporate yield</th>\n",
       "      <td>1</td>\n",
       "      <td>1</td>\n",
       "      <td>1</td>\n",
       "    </tr>\n",
       "    <tr>\n",
       "      <th>3-month Treasury rate change</th>\n",
       "      <td>-1</td>\n",
       "      <td>2</td>\n",
       "      <td>1</td>\n",
       "    </tr>\n",
       "    <tr>\n",
       "      <th>Dow Jones Total Stock Market Index change</th>\n",
       "      <td>-1</td>\n",
       "      <td>3</td>\n",
       "      <td>1</td>\n",
       "    </tr>\n",
       "    <tr>\n",
       "      <th>Market Volatility Index</th>\n",
       "      <td>1</td>\n",
       "      <td>4</td>\n",
       "      <td>1</td>\n",
       "    </tr>\n",
       "    <tr>\n",
       "      <th>Market Volatility Index change</th>\n",
       "      <td>1</td>\n",
       "      <td>4</td>\n",
       "      <td>1</td>\n",
       "    </tr>\n",
       "  </tbody>\n",
       "</table>\n",
       "</div>"
      ],
      "text/plain": [
       "                                           sign  group  calc_ema\n",
       "Real GDP growth                              -1      0         1\n",
       "BBB corporate yield                           1      1         1\n",
       "3-month Treasury rate change                 -1      2         1\n",
       "Dow Jones Total Stock Market Index change    -1      3         1\n",
       "Market Volatility Index                       1      4         1\n",
       "Market Volatility Index change                1      4         1"
      ]
     },
     "execution_count": 10,
     "metadata": {},
     "output_type": "execute_result"
    }
   ],
   "source": [
    "factors_df"
   ]
  },
  {
   "cell_type": "code",
   "execution_count": 11,
   "id": "400d0779",
   "metadata": {},
   "outputs": [],
   "source": [
    "y_col = 'Provision for Loan Lease Losses as % of Aver. Assets'"
   ]
  },
  {
   "cell_type": "code",
   "execution_count": 12,
   "id": "9d920d90",
   "metadata": {},
   "outputs": [],
   "source": [
    "train_up_to = '2021-12-31'"
   ]
  },
  {
   "cell_type": "code",
   "execution_count": 13,
   "id": "c69edc1f",
   "metadata": {},
   "outputs": [],
   "source": [
    "# Center of mass parameter possible values for exponential moving average (EMA) transformation\n",
    "com_vals = [0, 1, 1.5, 2, 2.5, 3, 3.5, 4, 4.5]"
   ]
  },
  {
   "cell_type": "markdown",
   "id": "e1a00cc9",
   "metadata": {},
   "source": [
    "## Defining outliers"
   ]
  },
  {
   "cell_type": "code",
   "execution_count": 14,
   "id": "9f64e014",
   "metadata": {},
   "outputs": [],
   "source": [
    "# The last year is for test,remaining data - for train\n",
    "data_set_train = data_set[data_set['Report Date']<='2021-12-31'].copy()"
   ]
  },
  {
   "cell_type": "code",
   "execution_count": 15,
   "id": "0e695507",
   "metadata": {},
   "outputs": [],
   "source": [
    "lower_limit = np.percentile(data_set_train[y_col], 0.5)\n",
    "upper_limit = np.percentile(data_set_train[y_col], 99)"
   ]
  },
  {
   "cell_type": "markdown",
   "id": "52c400ff",
   "metadata": {},
   "source": [
    "## Modeling"
   ]
  },
  {
   "cell_type": "markdown",
   "id": "91fe62bf",
   "metadata": {},
   "source": [
    "### List of banks for modeling"
   ]
  },
  {
   "cell_type": "code",
   "execution_count": 16,
   "id": "a0837e9a",
   "metadata": {},
   "outputs": [
    {
     "data": {
      "text/plain": [
       "181"
      ]
     },
     "execution_count": 16,
     "metadata": {},
     "output_type": "execute_result"
    }
   ],
   "source": [
    "# Banks that have data for the training set\n",
    "banks = data_set.loc[data_set['Report Date']>train_up_to, 'IDRSSD'].unique()\n",
    "len(banks)"
   ]
  },
  {
   "cell_type": "markdown",
   "id": "e30bdab0",
   "metadata": {},
   "source": [
    "#### Sample size for each bank"
   ]
  },
  {
   "cell_type": "code",
   "execution_count": 17,
   "id": "98104bea",
   "metadata": {},
   "outputs": [],
   "source": [
    "data_set_banks = data_set[data_set['IDRSSD'].isin(banks)].copy()"
   ]
  },
  {
   "cell_type": "code",
   "execution_count": 18,
   "id": "b82ba765",
   "metadata": {},
   "outputs": [],
   "source": [
    "sample_size = data_set_banks.groupby('IDRSSD')['Financial Institution Name'].count()"
   ]
  },
  {
   "cell_type": "code",
   "execution_count": 19,
   "id": "fb16bff7",
   "metadata": {},
   "outputs": [
    {
     "data": {
      "text/plain": [
       "count    181.000000\n",
       "mean      74.828729\n",
       "std       13.026829\n",
       "min       18.000000\n",
       "25%       81.000000\n",
       "50%       81.000000\n",
       "75%       81.000000\n",
       "max       81.000000\n",
       "Name: Financial Institution Name, dtype: float64"
      ]
     },
     "execution_count": 19,
     "metadata": {},
     "output_type": "execute_result"
    }
   ],
   "source": [
    "sample_size.describe()"
   ]
  },
  {
   "cell_type": "markdown",
   "id": "36951e16",
   "metadata": {},
   "source": [
    "#### Exclude outliers"
   ]
  },
  {
   "cell_type": "code",
   "execution_count": 20,
   "id": "3708cbb8",
   "metadata": {},
   "outputs": [],
   "source": [
    "banks_exclude = data_set_banks.loc[(data_set_banks[y_col]<lower_limit)|(data_set_banks[y_col]>upper_limit), 'IDRSSD'].unique()\n",
    "banks_upd = [bank for bank in list(banks) if bank not in banks_exclude]"
   ]
  },
  {
   "cell_type": "markdown",
   "id": "c3e67b62",
   "metadata": {},
   "source": [
    "#### Exclude banks with zero variance of the response variable"
   ]
  },
  {
   "cell_type": "code",
   "execution_count": 21,
   "id": "873cae1b",
   "metadata": {},
   "outputs": [
    {
     "data": {
      "text/plain": [
       "[5278251]"
      ]
     },
     "execution_count": 21,
     "metadata": {},
     "output_type": "execute_result"
    }
   ],
   "source": [
    "response_variance = data_set_banks.groupby('IDRSSD')[[y_col]].std()\n",
    "banks_exclude = response_variance.index[response_variance[y_col]==0]\n",
    "banks_exclude = list(banks_exclude)\n",
    "banks_exclude"
   ]
  },
  {
   "cell_type": "code",
   "execution_count": 22,
   "id": "d14adee4",
   "metadata": {},
   "outputs": [],
   "source": [
    "banks_upd = [bank for bank in list(banks_upd) if bank not in banks_exclude]"
   ]
  },
  {
   "cell_type": "code",
   "execution_count": 23,
   "id": "ce485837",
   "metadata": {},
   "outputs": [
    {
     "data": {
      "text/plain": [
       "147"
      ]
     },
     "execution_count": 23,
     "metadata": {},
     "output_type": "execute_result"
    }
   ],
   "source": [
    "len(banks_upd)"
   ]
  },
  {
   "cell_type": "markdown",
   "id": "77f755cd",
   "metadata": {},
   "source": [
    "### Modeling\n",
    "A separate AutoRegressive (AR) time series model is created for each bank, with an assumed autocorrelation lag of one. For each bank, multiple models are created, encompassing all possible combinations of factors. When the \"calc_ema\" flag is set to 1 for a specific factor, that factor undergoes transformation using the EMA, with the EMA parameter selected to maximize the correlation between the factor and the residuals of the AR(1) model. From these various models, the best one for each bank is determined based on the Akaike Information Criterion (AIC) score."
   ]
  },
  {
   "cell_type": "code",
   "execution_count": 24,
   "id": "54ac3ba9",
   "metadata": {},
   "outputs": [],
   "source": [
    "for bank_id in banks_upd:\n",
    "    \n",
    "    # Create samples for the bank\n",
    "    bank_data, bank_data_train = create_bank_train_set(bank_id, data_set, \n",
    "                                                       y_col, factors_df,\n",
    "                                                       train_up_to)\n",
    "    \n",
    "       \n",
    "    # Select the best model for the bank by evaluating all possible combinations of factors\n",
    "    # The criterion for selecting the best model is the Akaike Information Criterion (AIC) \n",
    "    # score on the training dataset\n",
    "    models_info, best_model, best_params, factors_bank = \\\n",
    "        choose_bank_best_model(bank_id, bank_data_train, y_col, factors_df, com_vals)\n",
    "    \n",
    "    \n",
    "    # Make predictions for the test sample using the model chosen in the previous step\n",
    "    bank_prediction(bank_id, bank_data,  # bank info\n",
    "                    best_params, factors_bank, # model info\n",
    "                    data_set, # data set to write the prediction\n",
    "                    y_col, train_up_to)   "
   ]
  },
  {
   "cell_type": "markdown",
   "id": "c9c1f410",
   "metadata": {},
   "source": [
    "#### Checking that predictions have been computed for all banks"
   ]
  },
  {
   "cell_type": "code",
   "execution_count": 25,
   "id": "ef3a6b85",
   "metadata": {},
   "outputs": [
    {
     "data": {
      "text/plain": [
       "147"
      ]
     },
     "execution_count": 25,
     "metadata": {},
     "output_type": "execute_result"
    }
   ],
   "source": [
    "len(data_set.loc[~data_set['y_pred'].isnull(), 'IDRSSD'].unique())"
   ]
  },
  {
   "cell_type": "markdown",
   "id": "d3261ef1",
   "metadata": {},
   "source": [
    "### Results on the test sample"
   ]
  },
  {
   "cell_type": "code",
   "execution_count": 26,
   "id": "0d54ce63",
   "metadata": {},
   "outputs": [],
   "source": [
    "test_sample = data_set.loc[~data_set['y_pred'].isnull(), \n",
    "                           ['Report Date', 'IDRSSD', 'Financial Institution Name', y_col, 'y_pred']]"
   ]
  },
  {
   "cell_type": "code",
   "execution_count": 27,
   "id": "a7b8bea7",
   "metadata": {},
   "outputs": [
    {
     "data": {
      "text/html": [
       "<div>\n",
       "<style scoped>\n",
       "    .dataframe tbody tr th:only-of-type {\n",
       "        vertical-align: middle;\n",
       "    }\n",
       "\n",
       "    .dataframe tbody tr th {\n",
       "        vertical-align: top;\n",
       "    }\n",
       "\n",
       "    .dataframe thead th {\n",
       "        text-align: right;\n",
       "    }\n",
       "</style>\n",
       "<table border=\"1\" class=\"dataframe\">\n",
       "  <thead>\n",
       "    <tr style=\"text-align: right;\">\n",
       "      <th></th>\n",
       "      <th>measure</th>\n",
       "    </tr>\n",
       "  </thead>\n",
       "  <tbody>\n",
       "    <tr>\n",
       "      <th>RMSE</th>\n",
       "      <td>0.200016</td>\n",
       "    </tr>\n",
       "    <tr>\n",
       "      <th>median relative error, %</th>\n",
       "      <td>56.320164</td>\n",
       "    </tr>\n",
       "  </tbody>\n",
       "</table>\n",
       "</div>"
      ],
      "text/plain": [
       "                            measure\n",
       "RMSE                       0.200016\n",
       "median relative error, %  56.320164"
      ]
     },
     "execution_count": 27,
     "metadata": {},
     "output_type": "execute_result"
    }
   ],
   "source": [
    "# Estimate errors excluding outliers\n",
    "estimate_errors(test_sample[y_col], test_sample['y_pred'], lower_limit, upper_limit, False)"
   ]
  }
 ],
 "metadata": {
  "kernelspec": {
   "display_name": "Python 3 (ipykernel)",
   "language": "python",
   "name": "python3"
  },
  "language_info": {
   "codemirror_mode": {
    "name": "ipython",
    "version": 3
   },
   "file_extension": ".py",
   "mimetype": "text/x-python",
   "name": "python",
   "nbconvert_exporter": "python",
   "pygments_lexer": "ipython3",
   "version": "3.9.13"
  }
 },
 "nbformat": 4,
 "nbformat_minor": 5
}
